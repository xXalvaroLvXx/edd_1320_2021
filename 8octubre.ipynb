{
  "nbformat": 4,
  "nbformat_minor": 0,
  "metadata": {
    "colab": {
      "name": "8octubre.ipynb",
      "provenance": [],
      "authorship_tag": "ABX9TyNYP0yx50qp0ofAdXnkx1AS",
      "include_colab_link": true
    },
    "kernelspec": {
      "name": "python3",
      "display_name": "Python 3"
    }
  },
  "cells": [
    {
      "cell_type": "markdown",
      "metadata": {
        "id": "view-in-github",
        "colab_type": "text"
      },
      "source": [
        "<a href=\"https://colab.research.google.com/github/xXalvaroLvXx/edd_1320_2021/blob/master/8octubre.ipynb\" target=\"_parent\"><img src=\"https://colab.research.google.com/assets/colab-badge.svg\" alt=\"Open In Colab\"/></a>"
      ]
    },
    {
      "cell_type": "code",
      "metadata": {
        "id": "tsfgKpDG_NGi",
        "outputId": "5061a078-8edf-431c-b5d4-a7e400beb087",
        "colab": {
          "base_uri": "https://localhost:8080/",
          "height": 156
        }
      },
      "source": [
        "monitores =[[\"Samsung\",\"17.3 \\\"\",1024],[\"BenQ\",\"40\\\"\",2048]]\n",
        "procesadores = [[\"Intel\",\"i7\",3.4],[\"AMD\",\"razzer\",3.3],[\"Intel\",\"i3\",3.1]]\n",
        "memorias = [[\"Kingston\", \"8GB\",\"DDR4\"],[\"Kingston\", \"16GB\",\"DDR3\"],[\"ADATA\", \"32GB\",\"DDR4\"]]\n",
        "\n",
        "componentes = (monitores,procesadores,memorias)\n",
        "\n",
        "print(componentes)\n",
        "\n",
        "print(componentes[1])\n",
        "\n",
        "print(componentes[2][1][1])\n",
        "\n",
        "print(int(componentes[0][1][2])*2)\n",
        "\n",
        "print(componentes[1][1][1][1:4])\n",
        "\n",
        "print(componentes[2][2][0].lower())\n",
        "\n",
        "componentes[2].append([\"Patito\" , \"32 GB\" , \"DDR4\"])\n",
        "print(componentes[2])"
      ],
      "execution_count": 18,
      "outputs": [
        {
          "output_type": "stream",
          "text": [
            "([['Samsung', '17.3 \"', 1024], ['BenQ', '40\"', 2048]], [['Intel', 'i7', 3.4], ['AMD', 'razzer', 3.3], ['Intel', 'i3', 3.1]], [['Kingston', '8GB', 'DDR4'], ['Kingston', '16GB', 'DDR3'], ['ADATA', '32GB', 'DDR4']])\n",
            "[['Intel', 'i7', 3.4], ['AMD', 'razzer', 3.3], ['Intel', 'i3', 3.1]]\n",
            "16GB\n",
            "4096\n",
            "azz\n",
            "adata\n",
            "[['Kingston', '8GB', 'DDR4'], ['Kingston', '16GB', 'DDR3'], ['ADATA', '32GB', 'DDR4'], ['Patito', '32 GB', 'DDR4']]\n"
          ],
          "name": "stdout"
        }
      ]
    },
    {
      "cell_type": "code",
      "metadata": {
        "id": "sz_pxoMmH1Gm",
        "outputId": "f7f829a6-8f52-4ea0-f31b-96389443ba8f",
        "colab": {
          "base_uri": "https://localhost:8080/",
          "height": 204
        }
      },
      "source": [
        "# copiar listas\n",
        "# extender listas\n",
        "\n",
        "frutas = [\"manzana\" , \"pera\"]\n",
        "otras_frutas = [\"aguacate\" , \"sandia\"]\n",
        "\n",
        "# + sobre listas\n",
        "frutas = frutas + otras_frutas\n",
        "print(frutas)\n",
        "\n",
        "# funcion extend()\n",
        "frutas.extend(otras_frutas)\n",
        "print(frutas)\n",
        "\n",
        "\n",
        "frutas.append(otras_frutas)\n",
        "print(frutas)\n",
        "\n",
        "\n",
        "\n",
        "# copiar listas\n",
        "\n",
        "colores = [\"azul\" , \"rojo\" , \"verde\" , \"violeta\"]\n",
        "otros_colores = colores\n",
        "print(colores)\n",
        "print(otros_colores)\n",
        "\n",
        "otros_colores.append(\"rosa\")\n",
        "print(colores)\n",
        "print(otros_colores)\n",
        "\n",
        "\n",
        "una_mas = colores.copy()\n",
        "print(una_mas)\n",
        "una_mas.append(\"blanco\")\n",
        "print(una_mas)\n",
        "print(colores)\n",
        "\n",
        "\n",
        "# unpaking de listas\n",
        "\n",
        "alumno = [\"Alvaro\" , \"Limones\" , \"Vazquez\" , 22 , \"ICO\" , 10.0]\n",
        "# nombre = alumno[0]\n",
        "# paterno = alumno[1]\n",
        "# etc\n",
        "\n",
        "nombre,paterno,materno,edad,carrera,promedio = alumno   # se puede hacer siempre y cuando se tengan los mismos valores de un lado que del otro\n",
        "print(f\"Alumno:{nombre}  Paterno:{paterno}  Carrera:{carrera}  Promedio={promedio}\")"
      ],
      "execution_count": 37,
      "outputs": [
        {
          "output_type": "stream",
          "text": [
            "['manzana', 'pera', 'aguacate', 'sandia']\n",
            "['manzana', 'pera', 'aguacate', 'sandia', 'aguacate', 'sandia']\n",
            "['manzana', 'pera', 'aguacate', 'sandia', 'aguacate', 'sandia', ['aguacate', 'sandia']]\n",
            "['azul', 'rojo', 'verde', 'violeta']\n",
            "['azul', 'rojo', 'verde', 'violeta']\n",
            "['azul', 'rojo', 'verde', 'violeta', 'rosa']\n",
            "['azul', 'rojo', 'verde', 'violeta', 'rosa']\n",
            "['azul', 'rojo', 'verde', 'violeta', 'rosa']\n",
            "['azul', 'rojo', 'verde', 'violeta', 'rosa', 'blanco']\n",
            "['azul', 'rojo', 'verde', 'violeta', 'rosa']\n",
            "Alumno:Alvaro  Paterno:Peres  Carrera:ICO  Promedio=10.0\n"
          ],
          "name": "stdout"
        }
      ]
    },
    {
      "cell_type": "markdown",
      "metadata": {
        "id": "GmYnfTJZR2HY"
      },
      "source": [
        "# Tuplas\n",
        "- se declara con []\n",
        "- selector com []\n",
        "- no son mutables "
      ]
    },
    {
      "cell_type": "code",
      "metadata": {
        "id": "BuJw_6KfSLUo",
        "outputId": "653f2098-4a00-4d59-f467-a7ffab6b09ed",
        "colab": {
          "base_uri": "https://localhost:8080/",
          "height": 68
        }
      },
      "source": [
        "precios = ( 99.9, 49.9, 12.45, 23.3, 33.44 55.66 )\n",
        "print(precios[1])\n",
        "# precios[1] = 50.0   no se permiten mutar  solo sirven para checar\n",
        "print(precios)\n",
        "print(precios[2:4])"
      ],
      "execution_count": 42,
      "outputs": [
        {
          "output_type": "stream",
          "text": [
            "49.9\n",
            "(99.9, 49.9, 12.45, 55.66)\n",
            "(12.45, 55.66)\n"
          ],
          "name": "stdout"
        }
      ]
    },
    {
      "cell_type": "markdown",
      "metadata": {
        "id": "nLSVpojLTjSz"
      },
      "source": [
        "# Diccionarios\n",
        "- se declara con llaves {}\n",
        "- si son mutables\n",
        "- son conjuntos pares llaves: valor\n",
        "- equivalenre a los Objetos JSON de JavaScript\n",
        "- selector [str]"
      ]
    },
    {
      "cell_type": "code",
      "metadata": {
        "id": "Vt4OTMXeT6Yj",
        "outputId": "751099b6-63ff-4e47-b711-c524c8386020",
        "colab": {
          "base_uri": "https://localhost:8080/",
          "height": 139
        }
      },
      "source": [
        "cliente = {   }\n",
        "print(cliente)\n",
        "alumno = {  \"num_cta\"  :  317245314  }\n",
        "print(alumno)\n",
        "\n",
        "alumno = {  \n",
        "          \"num_cta\"  :  317245314 , \n",
        "          \"carrera\"  : \"ICO\"  ,\n",
        "          \"promedio\" :  9.4  ,\n",
        "          \"materias\" :  [\"POO\" , \"Algebra\" , \"Electricidad\"],\n",
        "          \"direccion\":  {\n",
        "                          \"calle\" : \"rancho seco\",\n",
        "                          \"numero\" : 23          ,\n",
        "                          \"delegacion\" : \"Neza\"  ,\n",
        "                           \"estado\" : {\n",
        "                                        \"id\" : 15 ,\n",
        "                                        \"nombre\" : \"esatdo de mexico\" ,\n",
        "                                        \"nombre_corto\" : \"edoMex\" ,\n",
        "                               \n",
        "                                      }\n",
        "\n",
        "                        }\n",
        "\n",
        "          }\n",
        "\n",
        "\n",
        "print(alumno)\n",
        "print(alumno['materias'])\n",
        "print(alumno['promedio'])\n",
        "print(alumno['direccion']['estado']['nombre_corto'])\n",
        "\n",
        "\n",
        "\n"
      ],
      "execution_count": 50,
      "outputs": [
        {
          "output_type": "stream",
          "text": [
            "{}\n",
            "{'num_cta': 317245314}\n",
            "{'num_cta': 317245314, 'carrera': 'ICO', 'promedio': 9.4, 'materias': ['POO', 'Algebra', 'Electricidad'], 'direccion': {'calle': 'rancho seco', 'numero': 23, 'delegacion': 'Neza', 'estado': {'id': 15, 'nombre': 'esatdo de mexico', 'nombre_corto': 'edoMex'}}}\n",
            "['POO', 'Algebra', 'Electricidad']\n",
            "9.4\n",
            "edoMex\n"
          ],
          "name": "stdout"
        }
      ]
    }
  ]
}