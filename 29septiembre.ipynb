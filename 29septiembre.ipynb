{
  "nbformat": 4,
  "nbformat_minor": 0,
  "metadata": {
    "colab": {
      "name": "Untitled0.ipynb",
      "provenance": [],
      "authorship_tag": "ABX9TyPQcQBjD3N45KQTNoX/4rpP",
      "include_colab_link": true
    },
    "kernelspec": {
      "name": "python3",
      "display_name": "Python 3"
    }
  },
  "cells": [
    {
      "cell_type": "markdown",
      "metadata": {
        "id": "view-in-github",
        "colab_type": "text"
      },
      "source": [
        "<a href=\"https://colab.research.google.com/github/xXalvaroLvXx/edd_1320_2021/blob/master/29septiembre.ipynb\" target=\"_parent\"><img src=\"https://colab.research.google.com/assets/colab-badge.svg\" alt=\"Open In Colab\"/></a>"
      ]
    },
    {
      "cell_type": "code",
      "metadata": {
        "id": "TStcorlMsvZY"
      },
      "source": [
        "edad = 10"
      ],
      "execution_count": 2,
      "outputs": []
    },
    {
      "cell_type": "code",
      "metadata": {
        "id": "5wrBKBY6v6OZ",
        "outputId": "a5cb3dbd-5f09-4fcf-a41e-6757e157999f",
        "colab": {
          "base_uri": "https://localhost:8080/",
          "height": 51
        }
      },
      "source": [
        "print(edad)\n",
        "colores = ['rojo','azul','verde','morado','violeta']\n",
        "print(colores)"
      ],
      "execution_count": 4,
      "outputs": [
        {
          "output_type": "stream",
          "text": [
            "10\n",
            "['rojo', 'azul', 'verde', 'morado']\n"
          ],
          "name": "stdout"
        }
      ]
    },
    {
      "cell_type": "code",
      "metadata": {
        "id": "7OeVd38lw_vZ",
        "outputId": "5ad1fefe-1014-4ff2-c2c6-692c54e8761a",
        "colab": {
          "base_uri": "https://localhost:8080/",
          "height": 51
        }
      },
      "source": [
        "print(colores[3])\n",
        "print(colores[3][1:3])"
      ],
      "execution_count": 7,
      "outputs": [
        {
          "output_type": "stream",
          "text": [
            "morado\n",
            "or\n"
          ],
          "name": "stdout"
        }
      ]
    },
    {
      "cell_type": "markdown",
      "metadata": {
        "id": "UGK78P9PyMXV"
      },
      "source": [
        "# For en Python 3"
      ]
    },
    {
      "cell_type": "code",
      "metadata": {
        "id": "NJbiwcOBy6vN",
        "outputId": "922f7584-888c-412d-dcbc-e50c813b308b",
        "colab": {
          "base_uri": "https://localhost:8080/",
          "height": 85
        }
      },
      "source": [
        "for j in range(0,4,1):\n",
        "  print(colores[j])"
      ],
      "execution_count": 11,
      "outputs": [
        {
          "output_type": "stream",
          "text": [
            "rojo\n",
            "azul\n",
            "verde\n",
            "morado\n"
          ],
          "name": "stdout"
        }
      ]
    },
    {
      "cell_type": "markdown",
      "metadata": {
        "id": "UIdJ1mmM2_HL"
      },
      "source": [
        "markdawn\n",
        "**lokote**\n",
        "___\n",
        "mas informacion en: [gibhub](https://www.youtube.com/?hl=es-419&gl=MX)\n",
        "***\n",
        "![fes](https://upload.wikimedia.org/wikipedia/commons/thumb/5/51/Aragon_Jonhy_corel.jpg/240px-Aragon_Jonhy_corel.jpg)"
      ]
    }
  ]
}