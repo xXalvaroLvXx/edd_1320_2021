{
  "nbformat": 4,
  "nbformat_minor": 0,
  "metadata": {
    "colab": {
      "name": "6octubre.ipynb",
      "provenance": [],
      "history_visible": true,
      "authorship_tag": "ABX9TyMP0Um0Jzr5foQ09vNQ3Vo9",
      "include_colab_link": true
    },
    "kernelspec": {
      "name": "python3",
      "display_name": "Python 3"
    }
  },
  "cells": [
    {
      "cell_type": "markdown",
      "metadata": {
        "id": "view-in-github",
        "colab_type": "text"
      },
      "source": [
        "<a href=\"https://colab.research.google.com/github/xXalvaroLvXx/edd_1320_2021/blob/master/6octubre.ipynb\" target=\"_parent\"><img src=\"https://colab.research.google.com/assets/colab-badge.svg\" alt=\"Open In Colab\"/></a>"
      ]
    },
    {
      "cell_type": "code",
      "metadata": {
        "id": "U1soGf5Xqi6g",
        "outputId": "d8d3fb0d-e8a9-49b5-8282-e7327c1e032a",
        "colab": {
          "base_uri": "https://localhost:8080/",
          "height": 340
        }
      },
      "source": [
        "# Strin continuacion\n",
        "\n",
        "numeros_txt = \"     1, 2, 3 ,4   , 5  , 35   ,15  ,12\"\n",
        "print(numeros_txt)\n",
        "numeros_txt = numeros_txt.lstrip().split(',')\n",
        "print(numeros_txt)\n",
        "\n",
        "for j in range(len(numeros_txt)):\n",
        "    numeros_txt[ j ] = int(numeros_txt[j].strip())\n",
        "\n",
        "print(numeros_txt)\n",
        "\n",
        "\n",
        "# funcion range\n",
        "\n",
        "# range(inicio,stop,incremento)\n",
        "print(range(1,10,3))\n",
        "rango= range(1,10,2)\n",
        "\n",
        "for x in rango:\n",
        "    print(x)\n",
        "\n",
        "\n",
        "rango = range(10)\n",
        "for x in rango:\n",
        "    print(x)"
      ],
      "execution_count": 23,
      "outputs": [
        {
          "output_type": "stream",
          "text": [
            "     1, 2, 3 ,4   , 5  , 35   ,15  ,12\n",
            "['1', ' 2', ' 3 ', '4   ', ' 5  ', ' 35   ', '15  ', '12']\n",
            "[1, 2, 3, 4, 5, 35, 15, 12]\n",
            "range(1, 10, 3)\n",
            "1\n",
            "3\n",
            "5\n",
            "7\n",
            "9\n",
            "0\n",
            "1\n",
            "2\n",
            "3\n",
            "4\n",
            "5\n",
            "6\n",
            "7\n",
            "8\n",
            "9\n"
          ],
          "name": "stdout"
        }
      ]
    },
    {
      "cell_type": "markdown",
      "metadata": {
        "id": "8GKag8qXxHD4"
      },
      "source": [
        "# listas\n",
        "- mutables\n",
        "-declaran con [ ]\n",
        "-selector [ int ]\n",
        "\n",
        "# tuplas\n",
        "- NO mutables \n",
        "-declaran con ( )\n",
        "-selectos [ int ]\n",
        "\n",
        "# diccionarios\n",
        "- mutables\n",
        "-son conjuntos de pares llave:valor\n",
        "-eqiovalentes a los Objetos JSON de JavaScript\n",
        "\n",
        "# conjuntos\n",
        "- representacion de la teoria de conjuntos\n",
        "\n",
        "\n"
      ]
    },
    {
      "cell_type": "code",
      "metadata": {
        "id": "rocKgWG3yOZK",
        "outputId": "8846bed9-1494-4d4b-a037-00f350d1792e",
        "colab": {
          "base_uri": "https://localhost:8080/",
          "height": 136
        }
      },
      "source": [
        "  #listas\n",
        "  frutas = [ \"pera\" , \"manzana\", \"fresa\" , \"kiwi\" , \"naranja\" ]\n",
        "  print(frutas)\n",
        "  cosas = [\"cuaderno\" , 2 ,3.1416 , True , False , [ \"rojo\" , \"azul\" ]]\n",
        "  print(cosas)\n",
        "  frutas[2]=\"fresas\"   # frutas[2] = frutas[2].capitalize()\n",
        "  print(frutas)\n",
        "  #agregar  a lista\n",
        "  frutas.append(\"aguacate\")\n",
        "  print(frutas)\n",
        "  frutas.insert(2,\"sandia\")\n",
        "  print(frutas)               # \"append\" e \"insert\" se van a usar mucho\n",
        "\n",
        "  # conectar listas\n",
        "  fecha = [ \"6\",\"10\",\"2020\"]\n",
        "  print(fecha)\n",
        "  fecha_str = \"/\".join(fecha)   # 06/10/2020\n",
        "  print(fecha_str)\n",
        "  "
      ],
      "execution_count": 30,
      "outputs": [
        {
          "output_type": "stream",
          "text": [
            "['pera', 'manzana', 'fresa', 'kiwi', 'naranja']\n",
            "['cuaderno', 2, 3.1416, True, False, ['rojo', 'azul']]\n",
            "['pera', 'manzana', 'fresas', 'kiwi', 'naranja']\n",
            "['pera', 'manzana', 'fresas', 'kiwi', 'naranja', 'aguacate']\n",
            "['pera', 'manzana', 'sandia', 'fresas', 'kiwi', 'naranja', 'aguacate']\n",
            "['6', '10', '2020']\n",
            "6/10/2020\n"
          ],
          "name": "stdout"
        }
      ]
    },
    {
      "cell_type": "code",
      "metadata": {
        "id": "JSkaPAjo3UcC",
        "outputId": "767a019e-3351-4b22-c1df-10ac6a07778d",
        "colab": {
          "base_uri": "https://localhost:8080/",
          "height": 187
        }
      },
      "source": [
        "  # eliminar elementos\n",
        "  cosas = [\"cuaderno\" , 2 ,3.1416 , True , False , [ \"rojo\" , \"azul\" ]]\n",
        "  print(cosas)\n",
        "  cosas.append(\"lilbro\")\n",
        "  cosas.append(\"lapiz\")\n",
        "  print(cosas)\n",
        "  algo = cosas.pop()\n",
        "  print(cosas)\n",
        "  print(algo)\n",
        "\n",
        "  algo = cosas.pop(2)\n",
        "  print(cosas)\n",
        "  print(algo)\n",
        "\n",
        "  # vaciar una lista\n",
        "\n",
        "  cosas.clear()\n",
        "  print(cosas)\n",
        "\n",
        "  # ordenar\n",
        "  print(frutas)\n",
        "  frutas.sort()\n",
        "  print(frutas)\n",
        " \n"
      ],
      "execution_count": 27,
      "outputs": [
        {
          "output_type": "stream",
          "text": [
            "['cuaderno', 2, 3.1416, True, False, ['rojo', 'azul']]\n",
            "['cuaderno', 2, 3.1416, True, False, ['rojo', 'azul'], 'lilbro', 'lapiz']\n",
            "['cuaderno', 2, 3.1416, True, False, ['rojo', 'azul'], 'lilbro']\n",
            "lapiz\n",
            "['cuaderno', 2, True, False, ['rojo', 'azul'], 'lilbro']\n",
            "3.1416\n",
            "[]\n",
            "['aguacate', 'fresas', 'kiwi', 'manzana', 'naranja', 'pera', 'sandia']\n",
            "['aguacate', 'fresas', 'kiwi', 'manzana', 'naranja', 'pera', 'sandia']\n",
            "[]\n"
          ],
          "name": "stdout"
        }
      ]
    },
    {
      "cell_type": "code",
      "metadata": {
        "id": "ztA3jgnh7eGa",
        "outputId": "6ad24cfa-01d1-457a-bf98-59a9b43dcada",
        "colab": {
          "base_uri": "https://localhost:8080/",
          "height": 51
        }
      },
      "source": [
        "# slicing \n",
        "numeros=(0,1,2,3,4,5,6,7,8,9,10,11,12,13,14,15)\n",
        "print(numeros[8:13:1])\n",
        "\n",
        "# sustituir rebanadas\n",
        "\n",
        "numeros[8:13] =[-2,-2]\n",
        "print(numeros)\n",
        "\n",
        "# preguntar por existencia \n",
        "print(100 in numeros)"
      ],
      "execution_count": 42,
      "outputs": [
        {
          "output_type": "stream",
          "text": [
            "(8, 9, 10, 11, 12)\n",
            "False\n"
          ],
          "name": "stdout"
        }
      ]
    },
    {
      "cell_type": "markdown",
      "metadata": {
        "id": "KwQBB76d-qYo"
      },
      "source": [
        "Listas multi dimesion \n",
        "\n",
        "listas dentro de listas"
      ]
    },
    {
      "cell_type": "code",
      "metadata": {
        "id": "id7UEnyG-wn-",
        "outputId": "15a29aef-435f-479f-fa74-30dc8475f20c",
        "colab": {
          "base_uri": "https://localhost:8080/",
          "height": 207
        }
      },
      "source": [
        " computadoras = \"HP\" , \"Mac Book Pro 17\" , \"Mate book\" , \"Lenovo legion\"\n",
        " oss = [\"Windows 10\" , \"Linux\" , \"Android\" , \"iOS\" ]\n",
        "\n",
        " computo = [computadoras , oss]\n",
        " print(computo[0])\n",
        " print(computo[1])\n",
        " print(computo[0][2])\n",
        " print(computo[0][2][0:5])\n",
        " print(computo[0][3][5::-1])\n",
        " print(computo[0][3][-8::-1])\n",
        " print(\"Linux\" in computo[1])\n",
        "\n",
        " dbms = [ [\"Mysql\" ,\"Open Soure\" , False] ,[\"MS SQL Server\",\"de paga\", True] ]\n",
        " computo.append(dbms)\n",
        " print(computo)\n",
        " print(computo[2][0][0])\n",
        " print(computo[2][1][1])"
      ],
      "execution_count": 56,
      "outputs": [
        {
          "output_type": "stream",
          "text": [
            "('HP', 'Mac Book Pro 17', 'Mate book', 'Lenovo legion')\n",
            "['Windows 10', 'Linux', 'Android', 'iOS']\n",
            "Mate book\n",
            "Mate \n",
            "ovoneL\n",
            "ovoneL\n",
            "True\n",
            "[('HP', 'Mac Book Pro 17', 'Mate book', 'Lenovo legion'), ['Windows 10', 'Linux', 'Android', 'iOS'], [['Mysql', 'Open Soure', False], ['MS SQL Server', 'de paga', True]]]\n",
            "Mysql\n",
            "de paga\n"
          ],
          "name": "stdout"
        }
      ]
    },
    {
      "cell_type": "code",
      "metadata": {
        "id": "VNNlOATtz3X_"
      },
      "source": [
        "help(list)"
      ],
      "execution_count": null,
      "outputs": []
    }
  ]
}