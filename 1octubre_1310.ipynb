{
  "nbformat": 4,
  "nbformat_minor": 0,
  "metadata": {
    "colab": {
      "name": "1octubre_1310.ipynb",
      "provenance": [],
      "authorship_tag": "ABX9TyOEruQ5R1ijJoMZUUwx+GtB",
      "include_colab_link": true
    },
    "kernelspec": {
      "name": "python3",
      "display_name": "Python 3"
    }
  },
  "cells": [
    {
      "cell_type": "markdown",
      "metadata": {
        "id": "view-in-github",
        "colab_type": "text"
      },
      "source": [
        "<a href=\"https://colab.research.google.com/github/xXalvaroLvXx/edd_1320_2021/blob/master/1octubre_1310.ipynb\" target=\"_parent\"><img src=\"https://colab.research.google.com/assets/colab-badge.svg\" alt=\"Open In Colab\"/></a>"
      ]
    },
    {
      "cell_type": "markdown",
      "metadata": {
        "id": "ztfPnD6S7t45"
      },
      "source": [
        "## Intro Python\n",
        "### Variables\n",
        "tipo dinamico\n",
        "\"escuela = \"Fes Aragon\""
      ]
    },
    {
      "cell_type": "code",
      "metadata": {
        "id": "O9IwyJ2j7YCi",
        "outputId": "bfee1992-d695-4df8-da21-10204cbf667d",
        "colab": {
          "base_uri": "https://localhost:8080/",
          "height": 187
        }
      },
      "source": [
        "escuela = \"Fes Aragon\"\n",
        "print(escuela)\n",
        "print(\"-------\")\n",
        "edad = 13\n",
        "estatura = 1.67\n",
        "fumador = True\n",
        "frase = \"\"\"\n",
        "Esta es \n",
        "una \n",
        "frase\n",
        "de multiples lineas\n",
        "y tambien es \n",
        "un tipo de dato\n",
        "\"\"\"\n",
        "print(frase)\n",
        "nombre = 'jose'\n",
        "nombre_completo = \"jose sosa cardenas\" \n"
      ],
      "execution_count": 5,
      "outputs": [
        {
          "output_type": "stream",
          "text": [
            "Fes Aragon\n",
            "-------\n",
            "\n",
            "Esta es \n",
            "una \n",
            "frase\n",
            "de multiples lineas\n",
            "y tambien es \n",
            "un tipo de dato\n",
            "\n"
          ],
          "name": "stdout"
        }
      ]
    },
    {
      "cell_type": "markdown",
      "metadata": {
        "id": "2B9tHzTV95Ya"
      },
      "source": [
        "# Print\n",
        "con comas,\n",
        "\n",
        "con signo +\n",
        "\n",
        "con formato ()\n",
        "\n",
        "con el operador f\"\""
      ]
    },
    {
      "cell_type": "code",
      "metadata": {
        "id": "SoCNfGVz-CrT",
        "outputId": "ad7c7f7a-c97a-4112-a218-5cc4d9ab3e45",
        "colab": {
          "base_uri": "https://localhost:8080/",
          "height": 34
        }
      },
      "source": [
        "print(nombre,edad)"
      ],
      "execution_count": 6,
      "outputs": [
        {
          "output_type": "stream",
          "text": [
            "jose 13\n"
          ],
          "name": "stdout"
        }
      ]
    },
    {
      "cell_type": "code",
      "metadata": {
        "id": "tGQfk51H_Cnm",
        "outputId": "88574b14-58e4-4509-e8a4-ab3d3c72aafb",
        "colab": {
          "base_uri": "https://localhost:8080/",
          "height": 51
        }
      },
      "source": [
        "# + concatena\n",
        "print(nombre + str(edad))\n",
        "print(nombre+nombre_completo)"
      ],
      "execution_count": 8,
      "outputs": [
        {
          "output_type": "stream",
          "text": [
            "jose13\n",
            "josejose sosa cardenas\n"
          ],
          "name": "stdout"
        }
      ]
    },
    {
      "cell_type": "code",
      "metadata": {
        "id": "NKf2EWrCANmi",
        "outputId": "13ca17fd-259a-40af-d34b-d3f1fa62d676",
        "colab": {
          "base_uri": "https://localhost:8080/",
          "height": 51
        }
      },
      "source": [
        "# con formato _> Su nombre es Jose y su edad es 13 años.\n",
        "print(\"Su nombre es\",nombre,\"y su edad es de\",edad,\"años\")\n",
        "print(\"su nombre es {0} y su edad es de {1} años\".format(nombre,edad))"
      ],
      "execution_count": 10,
      "outputs": [
        {
          "output_type": "stream",
          "text": [
            "Su nombre es jose y su edad es de 13 años\n",
            "su nombre es jose y su edad es de 13 años\n"
          ],
          "name": "stdout"
        }
      ]
    },
    {
      "cell_type": "code",
      "metadata": {
        "id": "5sgujQMHBwf7",
        "outputId": "80ae6d54-9b5b-4f5c-832f-19df522b56c6",
        "colab": {
          "base_uri": "https://localhost:8080/",
          "height": 34
        }
      },
      "source": [
        "# con formato con el operador f \"\"\n",
        "print(f\"Su nombre es {nombre} y su edad es de {edad} años\")"
      ],
      "execution_count": 11,
      "outputs": [
        {
          "output_type": "stream",
          "text": [
            "Su nombre es jose y su edad es de 13 años\n"
          ],
          "name": "stdout"
        }
      ]
    },
    {
      "cell_type": "markdown",
      "metadata": {
        "id": "UaqmmM6CCPwu"
      },
      "source": [
        "# Caracter de escape\n",
        "\\n salto de linea\n",
        "\n",
        "\\t tabulador\n",
        "\n",
        "\\a beep\n",
        "\n",
        "\\\\\"   imprimir comilla doble\n",
        "\n",
        "\\\\'   imprimir comilla simple"
      ]
    },
    {
      "cell_type": "code",
      "metadata": {
        "id": "GmNhZ4r2DRbm",
        "outputId": "3b66a6fb-d17f-420f-b1ab-1f842ae3f5c2",
        "colab": {
          "base_uri": "https://localhost:8080/",
          "height": 51
        }
      },
      "source": [
        "\"\"\"\n",
        "Esto es \n",
        "un comentario \n",
        "de multiple linea\n",
        "tan tan\n",
        "\"\"\"\n",
        "print(f\"\\tMi nombre es\\n\\t\\t {nombre}\") "
      ],
      "execution_count": 12,
      "outputs": [
        {
          "output_type": "stream",
          "text": [
            "\tMi nombre es\n",
            "\t\t jose\n"
          ],
          "name": "stdout"
        }
      ]
    },
    {
      "cell_type": "markdown",
      "metadata": {
        "id": "8Ab41zPJD768"
      },
      "source": [
        "# Ayuda de tipos de dato en Python\n",
        "dir()\n",
        "\n",
        "help()"
      ]
    },
    {
      "cell_type": "code",
      "metadata": {
        "id": "feqN_XYaEK4C"
      },
      "source": [
        "# str, int, float, bool... list, dict, set\n",
        "help(str)"
      ],
      "execution_count": null,
      "outputs": []
    },
    {
      "cell_type": "code",
      "metadata": {
        "id": "zra2i-u3FOR2",
        "outputId": "9659adbd-d8b2-4a42-ffae-9307089b8e55",
        "colab": {
          "base_uri": "https://localhost:8080/",
          "height": 51
        }
      },
      "source": [
        "print(nombre_completo.capitalize() )\n",
        "print(nombre_completo.upper(),end=\"----\" )\n",
        "print(nombre_completo.title() )"
      ],
      "execution_count": 18,
      "outputs": [
        {
          "output_type": "stream",
          "text": [
            "Jose sosa cardenas\n",
            "JOSE SOSA CARDENAS----Jose Sosa Cardenas\n"
          ],
          "name": "stdout"
        }
      ]
    },
    {
      "cell_type": "code",
      "metadata": {
        "id": "6_2j8bZ_GBUa"
      },
      "source": [
        "help(print)"
      ],
      "execution_count": null,
      "outputs": []
    },
    {
      "cell_type": "markdown",
      "metadata": {
        "id": "iqrUYpvBGp5e"
      },
      "source": [
        "# clase String\n",
        "Es manejada como un arreglo (c o java) o lista (python)\n"
      ]
    },
    {
      "cell_type": "code",
      "metadata": {
        "id": "Yi8HVUaDHJtu",
        "outputId": "e8a669de-28cb-4717-a720-c0d3f6578add",
        "colab": {
          "base_uri": "https://localhost:8080/",
          "height": 34
        }
      },
      "source": [
        "telefono = \"Huawei mate 30 pro\"\n",
        "print(telefono[5])"
      ],
      "execution_count": 19,
      "outputs": [
        {
          "output_type": "stream",
          "text": [
            "i\n"
          ],
          "name": "stdout"
        }
      ]
    },
    {
      "cell_type": "markdown",
      "metadata": {
        "id": "5eYCx_PIIK1w"
      },
      "source": [
        "# saicing (rebanado)\n",
        "[inicio : stop : incremento]\n",
        "nota: el stop no se incluye, termina en el valor anterior al stop"
      ]
    },
    {
      "cell_type": "code",
      "metadata": {
        "id": "TgyBwUdcIczK",
        "outputId": "fd3b2119-b920-4978-dfdb-8c104b59af10",
        "colab": {
          "base_uri": "https://localhost:8080/",
          "height": 102
        }
      },
      "source": [
        "print(telefono[7:11:1])\n",
        "# el inicio y el incremento son opcionales\n",
        "print(telefono[:11:])\n",
        "# el valor por defecto de stop es len (str)\n",
        "print(telefono[::])\n",
        "# incremento negativo\n",
        "print(telefono[::-1])\n",
        "#\n",
        "print(telefono[-3::1])"
      ],
      "execution_count": 28,
      "outputs": [
        {
          "output_type": "stream",
          "text": [
            "mate\n",
            "Huawei mate\n",
            "Huawei mate 30 pro\n",
            "orp 03 etam iewauH\n",
            "pro\n"
          ],
          "name": "stdout"
        }
      ]
    },
    {
      "cell_type": "markdown",
      "metadata": {
        "id": "Pah1a1szNLR6"
      },
      "source": [
        "# funciones del string\n",
        "Exiten metodos muy utiles en esta clase."
      ]
    },
    {
      "cell_type": "code",
      "metadata": {
        "id": "exnzffUfNXlL",
        "outputId": "a6f74f4a-afb3-458c-e4e6-6412b2e7fb91",
        "colab": {
          "base_uri": "https://localhost:8080/",
          "height": 187
        }
      },
      "source": [
        "facultad = \"    facultad de estudios superiores aragon     \\n \"\n",
        "print(facultad)\n",
        "print( facultad.count(\"s\")  )# nosa ayuda a contar el numero de cosas que le pidas\n",
        "print(facultad.find(\"s\") ) #nos busca el primer factor que le pidas\n",
        "print( facultad.strip()  )#strip quita los espacios y cambios de linea\n",
        "print(len(facultad))#el numero de largo de a oracion      \n",
        "print(facultad.strip().split(\"t\"))\n",
        "\n",
        "print(\"------------------\")\n",
        "#copiar cadenas\n",
        "otra_cadena = facultad\n",
        "print(otra_cadena)\n",
        "\n"
      ],
      "execution_count": 48,
      "outputs": [
        {
          "output_type": "stream",
          "text": [
            "    facultad de estudios superiores aragon     \n",
            " \n",
            "4\n",
            "17\n",
            "facultad de estudios superiores aragon\n",
            "49\n",
            "['facul', 'ad de es', 'udios superiores aragon']\n",
            "------------------\n",
            "    facultad de estudios superiores aragon     \n",
            " \n"
          ],
          "name": "stdout"
        }
      ]
    }
  ]
}